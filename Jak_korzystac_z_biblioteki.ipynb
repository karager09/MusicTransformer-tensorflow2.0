{
 "cells": [
  {
   "cell_type": "code",
   "execution_count": 1,
   "metadata": {},
   "outputs": [
    {
     "data": {
      "text/plain": [
       "True"
      ]
     },
     "execution_count": 1,
     "metadata": {},
     "output_type": "execute_result"
    }
   ],
   "source": [
    "from model import MusicTransformer\n",
    "from custom.layers import *\n",
    "from custom import callback\n",
    "from tensorflow.python import keras\n",
    "import params as par\n",
    "from tensorflow.python import enable_eager_execution\n",
    "from tensorflow.python.keras.optimizer_v2.adam import Adam\n",
    "from data import Data\n",
    "import utils\n",
    "tf.executing_eagerly()"
   ]
  },
  {
   "cell_type": "markdown",
   "metadata": {},
   "source": [
    "Ściągnięcie zbiorów uczących (skrypt linuxowy, można też samemy podać jakiś inny zbiór):  \n",
    "sh dataset/script/{ecomp_piano_downloader, midi_world_downloader, ...}.sh  \n",
    "(np. sh dataset/script/classic_piano_dataset.sh)  \n",
    "  \n",
    "Preprocessing (pliki muzyczne są konwertowane do sekwencji liczb i zapisywane za pomocą pickle):  \n",
    "python preprocess.py {midi_load_dir} {dataset_save_dir}  \n",
    "(np. python preprocess.py \"dataset\\scripts\\classic_piano_dataset\"   \"dataset\\scripts\\classic_piano_dataset_preprocessed\")  \n",
    "  \n",
    "(jeśli skrypt chce się uruchomić prosto z notebooka to wystarczy przed komendą shellową wpisać \"!\")  "
   ]
  },
  {
   "cell_type": "markdown",
   "metadata": {},
   "source": [
    "Uczenie:  \n",
    "  \n",
    "python train.py --epochs={NUM_EPOCHS} --load_path={NONE_OR_LOADING_DIR} --save_path={SAVING_DIR} --max_seq={SEQ_LENGTH} --pickle_dir={DATA_PATH} --batch_size={BATCH_SIZE} --l_r={LEARNING_RATE}  \n",
    "  \n",
    "(Przykładowo:  \n",
    "python train.py --epochs=300 --save_path=\"sample_model\"   \n",
    "--max_seq=200 --pickle_dir=\"dataset\\scripts\\classic_piano_dataset_preprocessed\" --batch_size=4)  "
   ]
  },
  {
   "cell_type": "markdown",
   "metadata": {},
   "source": [
    "W pliku \"sample_model\" znajduje się wstępnie nauczona przeze mnie sieć nauronowa (max_seq=500, batch=3, epochs=400 ~= 4 godziny uczenia). Aby sprawdzić jej działanie:"
   ]
  },
  {
   "cell_type": "code",
   "execution_count": 2,
   "metadata": {},
   "outputs": [],
   "source": [
    "from model import MusicTransformerDecoder\n",
    "opt = Adam(par.l_r)\n",
    "mt = MusicTransformerDecoder(\n",
    "  \tembedding_dim=256, vocab_size=par.vocab_size, \n",
    "  \tnum_layer=6, \n",
    "  \tmax_seq=500,\n",
    "  \tdropout=0.1,\n",
    "  \tdebug=False,\n",
    "    loader_path = r\"sample_model\"\n",
    ")\n",
    "# mt.compile(optimizer=opt, loss=callback.TransformerLoss())"
   ]
  },
  {
   "cell_type": "code",
   "execution_count": 5,
   "metadata": {},
   "outputs": [
    {
     "data": {
      "text/plain": [
       "array([ 70, 370,  65, 367,  41, 367,  48, 321, 179, 191, 195, 336, 185,\n",
       "       191, 176, 371,  71, 368,  68, 368,  63, 368,  59, 366,  32, 366,\n",
       "        44, 352, 199, 368,  72, 314, 172, 369,  77, 367,  67, 256, 200,\n",
       "       302, 205, 195, 369,  76,  67, 259, 195, 304, 196, 191, 187, 205,\n",
       "       369,  77, 367,  68, 367,  65, 366,  37, 366,  49, 321, 369,  76,\n",
       "       324, 368,  77, 288, 205, 369,  76, 323, 204, 368,  76, 325, 205,\n",
       "       196, 193, 165, 177, 204, 204, 368,  66, 366,  39, 367,  51, 369,\n",
       "        75, 322, 194, 167, 179, 203, 368,  77, 271, 205, 366,  76, 263,\n",
       "       204, 302, 167, 179, 365,  68, 362,  61, 363,  64, 362,  53, 362,\n",
       "        56, 321, 366,  73, 321, 366,  76, 324, 367,  77, 289, 365,  80,\n",
       "       289, 196, 189, 192, 181, 184, 361,  56, 361,  61, 360,  53, 360,\n",
       "        56, 361,  68, 365,  73, 256, 205, 208, 321, 184, 189, 181, 196,\n",
       "       201, 361,  61, 360,  53, 360,  56, 365,  73, 363,  68, 325, 367,\n",
       "        77, 290, 365,  80, 290, 184, 361,  56, 361,  60, 360,  54, 369,\n",
       "        75, 256, 205, 208, 323, 184, 188, 182, 203, 361,  54, 361,  60,\n",
       "       360,  56, 364,  75, 362,  66, 337, 208, 184, 366,  80, 256, 203,\n",
       "       194, 321, 184, 362,  56, 361,  60, 360,  54, 360,  54, 256, 208,\n",
       "       322, 184, 188, 182, 182, 182, 366,  80, 361,  56, 361,  60, 360,\n",
       "        54, 361,  54, 256, 182, 321, 184, 188, 182, 182, 182, 182, 182,\n",
       "       182, 182, 182, 182, 365,  75, 367,  80, 362,  54, 361,  54, 324,\n",
       "       367,  77, 289, 365,  75, 289, 203, 365,  75, 289, 203, 365,  75,\n",
       "       289, 203, 364,  75, 289, 208, 203, 363,  75, 362,  56, 361,  51,\n",
       "       290, 203, 365,  75, 289, 364,  75, 289, 203, 365,  75, 288, 184,\n",
       "       179, 361,  56, 361,  51, 289, 203, 364,  75, 290, 203, 364,  75,\n",
       "       291, 208, 184, 179, 361,  56, 361,  51, 365,  80, 363,  75, 256,\n",
       "       203, 325, 208, 203, 184, 179, 361,  56, 361,  51, 366,  82, 363,\n",
       "        75, 257, 208, 323, 368,  80, 289, 203, 364,  75, 289, 208, 365,\n",
       "        80, 289, 203, 364,  75, 290, 208, 371,  80, 289, 208, 365,  75,\n",
       "       292, 203, 366,  75, 293, 184, 179, 361,  56, 362,  63, 361,  51,\n",
       "       370,  85, 366,  73, 256, 203, 288, 213, 201, 272, 191, 179, 362,\n",
       "        56, 361,  51, 368,  84, 366,  72, 257, 213, 321, 184, 179, 258,\n",
       "       212, 200, 278, 373,  92, 276, 220, 261, 364,  56, 366,  51, 288,\n",
       "       184, 179, 364,  56, 366,  51, 288, 373,  85, 292, 213, 374,  85,\n",
       "       292, 184, 179, 373,  73, 367,  56, 369,  63, 367,  51, 288, 213,\n",
       "       201, 259, 256, 184, 191, 179, 265, 373,  87, 273, 215, 261, 364,\n",
       "        56, 366,  51, 288, 184, 179, 365,  56, 365,  51, 288, 373,  86,\n",
       "       287, 184, 179, 372,  75, 367,  56, 370,  63, 367,  51, 288, 184,\n",
       "       191, 179, 260, 214, 271, 364,  56, 366,  51, 289, 184, 179, 364,\n",
       "        56, 366,  51, 289, 373,  84])"
      ]
     },
     "execution_count": 5,
     "metadata": {},
     "output_type": "execute_result"
    }
   ],
   "source": [
    "output = mt.generate(prior=[70])\n",
    "output"
   ]
  },
  {
   "cell_type": "code",
   "execution_count": 6,
   "metadata": {},
   "outputs": [
    {
     "name": "stdout",
     "output_type": "stream",
     "text": [
      "info removed pitch: 51\n",
      "info removed pitch: 63\n",
      "info removed pitch: 67\n",
      "info removed pitch: 57\n",
      "info removed pitch: 63\n"
     ]
    },
    {
     "data": {
      "text/plain": [
       "<pretty_midi.pretty_midi.PrettyMIDI at 0x1501128a248>"
      ]
     },
     "execution_count": 6,
     "metadata": {},
     "output_type": "execute_result"
    }
   ],
   "source": [
    "from  midi_processor.processor import decode_midi\n",
    "decode_midi(output.tolist(), 'generated_2.mid')"
   ]
  },
  {
   "cell_type": "code",
   "execution_count": null,
   "metadata": {},
   "outputs": [],
   "source": [
    "Jeśli chcesz przesłuchać stworzonej piosenki a nie posiadasz np. DAW (FL Studio), można użyć sekwencera online:\n",
    "https://onlinesequencer.net/import\n",
    "Uploaduje się piosenkę (.mid), akceptuje domyśle ustawienia i na ekranie pokazuje się widok piano roll (można też odtworzyć utwór)."
   ]
  }
 ],
 "metadata": {
  "kernelspec": {
   "display_name": "Python 3",
   "language": "python",
   "name": "python3"
  },
  "language_info": {
   "codemirror_mode": {
    "name": "ipython",
    "version": 3
   },
   "file_extension": ".py",
   "mimetype": "text/x-python",
   "name": "python",
   "nbconvert_exporter": "python",
   "pygments_lexer": "ipython3",
   "version": "3.7.5"
  }
 },
 "nbformat": 4,
 "nbformat_minor": 4
}
