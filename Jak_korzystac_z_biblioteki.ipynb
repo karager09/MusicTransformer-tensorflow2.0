{
 "cells": [
  {
   "cell_type": "code",
   "execution_count": 1,
   "metadata": {},
   "outputs": [
    {
     "data": {
      "text/plain": [
       "True"
      ]
     },
     "execution_count": 1,
     "metadata": {},
     "output_type": "execute_result"
    }
   ],
   "source": [
    "from model import MusicTransformer\n",
    "from custom.layers import *\n",
    "from custom import callback\n",
    "from tensorflow.python import keras\n",
    "import params as par\n",
    "from tensorflow.python import enable_eager_execution\n",
    "from tensorflow.python.keras.optimizer_v2.adam import Adam\n",
    "from data import Data\n",
    "import utils\n",
    "tf.executing_eagerly()"
   ]
  },
  {
   "cell_type": "markdown",
   "metadata": {},
   "source": [
    "Ściągnięcie zbiorów uczących (skrypt linuxowy, można też samemy podać jakiś inny zbiór):  \n",
    "sh dataset/script/{ecomp_piano_downloader, midi_world_downloader, ...}.sh  \n",
    "(np. sh dataset/script/classic_piano_dataset.sh)  \n",
    "  \n",
    "Preprocessing (pliki mmuzyczne są konwertowane do sekwencji liczb i zapisywane za pomocą pickle):  \n",
    "python preprocess.py {midi_load_dir} {dataset_save_dir}  \n",
    "(np. python preprocess.py \"dataset\\scripts\\classic_piano_dataset\"   \"dataset\\scripts\\classic_piano_dataset_preprocessed\")  \n",
    "  \n",
    "(jeśli skrypt chce się uruchomić prosto z notebooka to wystarczy przed komendą shellową wpisać \"!\")  "
   ]
  },
  {
   "cell_type": "markdown",
   "metadata": {},
   "source": [
    "Uczenie:  \n",
    "  \n",
    "python train.py --epochs={NUM_EPOCHS} --load_path={NONE_OR_LOADING_DIR} --save_path={SAVING_DIR} --max_seq={SEQ_LENGTH} --pickle_dir={DATA_PATH} --batch_size={BATCH_SIZE} --l_r={LEARNING_RATE}  \n",
    "  \n",
    "(Przykładowo:  \n",
    "python train.py --epochs=300 --save_path=\"sample_model\"   \n",
    "--max_seq=200 --pickle_dir=\"dataset\\scripts\\classic_piano_dataset_preprocessed\" --batch_size=4)  "
   ]
  },
  {
   "cell_type": "markdown",
   "metadata": {},
   "source": [
    "W pliku \"sample_model\" znajduje się wstępnie nauczona przeze mnie sieć nauronowa (max_seq=500, batch=3, epochs=400 ~= 4 godziny uczenia). Aby sprawdzić jej działanie:"
   ]
  },
  {
   "cell_type": "code",
   "execution_count": 22,
   "metadata": {},
   "outputs": [],
   "source": [
    "from model import MusicTransformerDecoder\n",
    "opt = Adam(par.l_r)\n",
    "mt = MusicTransformerDecoder(\n",
    "  \tembedding_dim=256, vocab_size=par.vocab_size, \n",
    "  \tnum_layer=6, \n",
    "  \tmax_seq=500,\n",
    "  \tdropout=0.1,\n",
    "  \tdebug=False,\n",
    "    loader_path = r\"sample_model\"\n",
    ")\n",
    "# mt.compile(optimizer=opt, loss=callback.TransformerLoss())"
   ]
  },
  {
   "cell_type": "code",
   "execution_count": 29,
   "metadata": {},
   "outputs": [
    {
     "data": {
      "text/plain": [
       "array([ 70, 278, 368,  67, 280, 195, 368,  69, 267, 197, 368,  71, 267,\n",
       "       199, 369,  72, 267, 200, 369,  74, 267, 202, 370,  76, 268, 204,\n",
       "       366,  54, 371,  78, 303, 182, 206, 369,  43, 372,  79, 279, 171,\n",
       "       207, 368,  69, 366,  65, 279, 197, 193, 368,  67, 366,  64, 279,\n",
       "       195, 192, 368,  66, 366,  62, 279, 194, 190, 368,  67, 366,  64,\n",
       "       279, 195, 192, 368,  66, 366,  62, 279, 194, 190, 368,  67, 366,\n",
       "        64, 279, 195, 192, 368,  66, 366,  62, 279, 194, 190, 368,  67,\n",
       "       366,  64, 281, 195, 192, 368,  66, 366,  62, 280, 194, 190, 368,\n",
       "        67, 366,  64, 280, 195, 192, 370,  71, 366,  65, 280, 199, 193,\n",
       "       369,  69, 366,  65, 280, 197, 193, 368,  67, 366,  64, 279, 195,\n",
       "       192, 369,  77, 366,  65, 279, 205, 193, 368,  76, 366,  64, 280,\n",
       "       204, 192, 369,  75, 366,  65, 280, 203, 193, 368,  74, 366,  65,\n",
       "       280, 202, 193, 369,  72, 366,  64, 280, 200, 192, 368,  74, 366,\n",
       "        65, 280, 202, 193, 369,  69, 366,  65, 280, 197, 193, 370,  74,\n",
       "       367,  65, 280, 202, 193, 370,  70, 366,  64, 280, 198, 192, 371,\n",
       "        74, 369,  69, 268, 202, 267, 197, 369,  72, 267, 200, 369,  71,\n",
       "       267, 199, 369,  69, 267, 190, 366,  59, 370,  68, 364,  62, 268,\n",
       "       187, 268, 196, 190, 364,  59, 369,  68, 268, 187, 268, 196, 363,\n",
       "        59, 369,  68, 268, 187, 268, 196, 363,  59, 369,  68, 268, 187,\n",
       "       268, 196, 363,  59, 369,  68, 268, 187, 268, 196, 363,  59, 370,\n",
       "        77, 268, 187, 268, 205, 363,  59, 370,  77, 268, 187, 268, 205,\n",
       "       363,  59, 370,  77, 268, 187, 268, 205, 363,  59, 370,  77, 268,\n",
       "       187, 268, 205, 363,  59, 369,  75, 268, 187, 268, 203, 363,  59,\n",
       "       369,  75, 268, 187, 268, 203, 363,  59, 368,  75, 268, 187, 268,\n",
       "       203, 363,  59, 368,  75, 268, 187, 268, 203, 363,  59, 295, 187,\n",
       "       269, 208, 363,  59, 368,  80, 268, 187, 268, 208, 363,  59, 368,\n",
       "        80, 268, 187, 268, 208, 363,  59, 368,  80, 268, 187, 268, 208,\n",
       "       363,  59, 368,  80, 268, 187, 268, 208, 363,  59, 368,  80, 268,\n",
       "       187, 268, 208, 363,  59, 368,  80, 268, 187, 268, 208, 363,  59,\n",
       "       368,  80, 268, 187, 268, 208, 363,  59, 368,  80, 268, 187, 268,\n",
       "       208, 363,  59, 368,  80, 268, 187, 268, 208, 363,  59, 368,  80,\n",
       "       268, 187, 268, 208, 363,  59, 368,  80, 268, 187, 268, 208, 363,\n",
       "        59, 369,  80, 268, 187, 268, 208, 363,  59, 368,  80, 268, 187,\n",
       "       268, 208, 362,  59, 368,  80, 268, 187, 268, 208, 362,  59, 368,\n",
       "        80, 268, 187, 268, 208, 363,  59, 368,  80, 268, 187, 268, 208,\n",
       "       363,  59, 369,  80, 268, 187, 268, 208, 363,  59, 368,  80, 268,\n",
       "       187, 268, 208, 363,  59, 367,  75, 269, 187, 270, 203, 367,  76,\n",
       "       366,  70, 269, 204, 198, 269, 368,  76, 366,  70, 268, 204, 198,\n",
       "       268, 363,  58, 368,  76, 268])"
      ]
     },
     "execution_count": 29,
     "metadata": {},
     "output_type": "execute_result"
    }
   ],
   "source": [
    "output = mt.generate(prior=[70], length=2048)\n",
    "output"
   ]
  },
  {
   "cell_type": "code",
   "execution_count": 30,
   "metadata": {},
   "outputs": [
    {
     "name": "stdout",
     "output_type": "stream",
     "text": [
      "info removed pitch: 80\n"
     ]
    },
    {
     "data": {
      "text/plain": [
       "<pretty_midi.pretty_midi.PrettyMIDI at 0x2516069db88>"
      ]
     },
     "execution_count": 30,
     "metadata": {},
     "output_type": "execute_result"
    }
   ],
   "source": [
    "from  midi_processor.processor import decode_midi\n",
    "decode_midi(output.tolist(), 'generated_2.mid')"
   ]
  },
  {
   "cell_type": "code",
   "execution_count": null,
   "metadata": {},
   "outputs": [],
   "source": [
    "Jeśli chcesz przesłuchać stworzonej piosenki a nie posiadasz np. DAW (FL Studio), można użyć sekwencera online:\n",
    "https://onlinesequencer.net/import\n",
    "Uploaduje się piosenkę (.mid), akceptuje domyśle ustawienia i na ekranie pokazuje się widok piano roll (można też odtworzyć utwór)."
   ]
  }
 ],
 "metadata": {
  "kernelspec": {
   "display_name": "Python 3",
   "language": "python",
   "name": "python3"
  },
  "language_info": {
   "codemirror_mode": {
    "name": "ipython",
    "version": 3
   },
   "file_extension": ".py",
   "mimetype": "text/x-python",
   "name": "python",
   "nbconvert_exporter": "python",
   "pygments_lexer": "ipython3",
   "version": "3.7.5"
  }
 },
 "nbformat": 4,
 "nbformat_minor": 4
}
